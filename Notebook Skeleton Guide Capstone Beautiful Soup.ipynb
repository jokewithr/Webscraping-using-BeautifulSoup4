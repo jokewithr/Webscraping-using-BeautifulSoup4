{
 "cells": [
  {
   "cell_type": "markdown",
   "metadata": {},
   "source": [
    "# Capstone Webscrapping using BeautifulSoup\n",
    "\n",
    "This notebook contains guidances & tasks on the data processing for the application\n",
    "\n",
    "## background\n",
    "\n",
    "(Please insert the background here )\n",
    "\n",
    "## Requesting the Data and Creating a BeautifulSoup\n",
    "\n",
    "Let's begin with requesting the web from the site with `get` method."
   ]
  },
  {
   "cell_type": "code",
   "execution_count": 21,
   "metadata": {
    "ExecuteTime": {
     "end_time": "2020-01-13T05:12:23.275508Z",
     "start_time": "2020-01-13T05:12:20.009898Z"
    }
   },
   "outputs": [],
   "source": [
    "import requests\n",
    "\n",
    "url_get = requests.get('https://www.exchange-rates.org/exchange-rate-history/usd-idr')"
   ]
  },
  {
   "cell_type": "markdown",
   "metadata": {},
   "source": [
    "To visualize what exactly you get from the `request.get`, we can use .content so ee what we exactly get, in here i slice it so it won't make our screen full of the html we get from the page. You can delete the slicing if you want to see what we fully get."
   ]
  },
  {
   "cell_type": "code",
   "execution_count": 22,
   "metadata": {
    "ExecuteTime": {
     "end_time": "2020-01-13T05:12:23.290648Z",
     "start_time": "2020-01-13T05:12:23.277650Z"
    }
   },
   "outputs": [
    {
     "data": {
      "text/plain": [
       "b'!DOCTYPE html>\\r\\n<!--[if lt IE 9]>\\r\\n<html class=\"no-js ie8 oldie\" lang=\"en\" xml:lang=\\'en\\'>\\r\\n<![endif]-->\\r\\n<!--[if gt IE 8]><!--><html class=\"no-js\" lang=\"en\" xml:lang=\\'en\\'><!--<![endif]-->\\r\\n<head>\\r\\n<title>USD to IDR exchange rate history</title>\\r\\n<meta http-equiv=\"X-UA-Compatible\" content=\"IE=edge\">\\r\\n<meta name=\"viewport\" content=\"width=device-width, initial-scale=1, maximum-scale=5\">\\r\\n<meta charset=\"utf-8\" /><meta http-equiv=\"Content-Type\" content=\"text/html; charset=utf-8\" />\\r\\n<base href=\"http'"
      ]
     },
     "execution_count": 22,
     "metadata": {},
     "output_type": "execute_result"
    }
   ],
   "source": [
    "url_get.content[1:500]"
   ]
  },
  {
   "cell_type": "markdown",
   "metadata": {},
   "source": [
    "As we can see we get a very unstructured and complex html, which actually contains the codes needed to show the webpages on your web browser. But we as human still confused what and where we can use that piece of code, so here where we use the beautifulsoup. Beautiful soup class will result a beautifulsoup object. Beautiful Soup transforms a complex HTML document into a complex tree of Python objects. \n",
    "\n",
    "Let's make Beautiful soup object and feel free to explore the object here."
   ]
  },
  {
   "cell_type": "code",
   "execution_count": 23,
   "metadata": {
    "ExecuteTime": {
     "end_time": "2020-01-13T05:12:23.808122Z",
     "start_time": "2020-01-13T05:12:23.292610Z"
    }
   },
   "outputs": [],
   "source": [
    "from bs4 import BeautifulSoup \n",
    "\n",
    "soup = BeautifulSoup(url_get.content,\"html.parser\")"
   ]
  },
  {
   "cell_type": "markdown",
   "metadata": {},
   "source": [
    "## Finding the right key to scrap the data & Extracting the right information"
   ]
  },
  {
   "cell_type": "markdown",
   "metadata": {},
   "source": [
    "Find the key and put the key into the `.find()` Put all the exploring the right key at this cell. (please change this markdown with your explanation)"
   ]
  },
  {
   "cell_type": "code",
   "execution_count": 24,
   "metadata": {
    "ExecuteTime": {
     "end_time": "2020-01-13T05:12:23.878904Z",
     "start_time": "2020-01-13T05:12:23.854974Z"
    },
    "scrolled": true
   },
   "outputs": [
    {
     "name": "stdout",
     "output_type": "stream",
     "text": [
      "tbody>\n",
      " <tr>\n",
      "  <td>\n",
      "   <a class=\"w\" href=\"/exchange-rate-history/usd-idr-2023-05-11\">\n",
      "    May 11, 2023\n",
      "   </a>\n",
      "   <a class=\"n\" href=\"/exchange-rate-history/usd-idr-2023-05-11\">\n",
      "    2023-5-11\n",
      "   </a>\n",
      "  </td>\n",
      "  <td>\n",
      "   <span class=\"w\">\n",
      "    <span class=\"nowrap\">\n",
      "     <span class=\"currencySymbol\">\n",
      "      $\n",
      "     </span>\n",
      "     1 =\n",
      "    </span>\n",
      "    <span class=\"nowrap\">\n",
      "     <span class=\"currencySymbol\">\n",
      "      Rp\n",
      "     </span>\n",
      "     14,776\n",
      "    </span>\n",
      "   </span>\n",
      "   <span class=\"n\">\n",
      "    <span class=\"nowrap\"\n"
     ]
    }
   ],
   "source": [
    "table = soup.find('tbody')\n",
    "print(table.prettify()[1:500])"
   ]
  },
  {
   "cell_type": "code",
   "execution_count": 25,
   "metadata": {},
   "outputs": [
    {
     "data": {
      "text/plain": [
       "[<a class=\"n\" href=\"/exchange-rate-history/usd-idr-2023-05-11\">2023-5-11</a>,\n",
       " <a class=\"n\" href=\"/exchange-rate-history/usd-idr-2023-05-10\">2023-5-10</a>,\n",
       " <a class=\"n\" href=\"/exchange-rate-history/usd-idr-2023-05-09\">2023-5-9</a>,\n",
       " <a class=\"n\" href=\"/exchange-rate-history/usd-idr-2023-05-08\">2023-5-8</a>,\n",
       " <a class=\"n\" href=\"/exchange-rate-history/usd-idr-2023-05-05\">2023-5-5</a>]"
      ]
     },
     "execution_count": 25,
     "metadata": {},
     "output_type": "execute_result"
    }
   ],
   "source": [
    "table.find_all('a', attrs={'class':'n'})[:5]"
   ]
  },
  {
   "cell_type": "code",
   "execution_count": 26,
   "metadata": {},
   "outputs": [
    {
     "data": {
      "text/plain": [
       "'2023-5-8'"
      ]
     },
     "execution_count": 26,
     "metadata": {},
     "output_type": "execute_result"
    }
   ],
   "source": [
    "table.find_all('a', attrs={'class':'n'})[3].text"
   ]
  },
  {
   "cell_type": "code",
   "execution_count": 27,
   "metadata": {},
   "outputs": [
    {
     "data": {
      "text/plain": [
       "[<span class=\"nowrap\"><span class=\"currencySymbol\">$</span>1 =</span>,\n",
       " <span class=\"nowrap\"><span class=\"currencySymbol\">Rp</span>14,776</span>,\n",
       " <span class=\"nowrap\"><span class=\"currencySymbol\">$</span>1 =</span>,\n",
       " <span class=\"nowrap\"><span class=\"currencySymbol\">Rp</span>14,776</span>,\n",
       " <span class=\"nowrap\"><span class=\"currencySymbol\">$</span>1 =</span>,\n",
       " <span class=\"nowrap\"><span class=\"currencySymbol\">Rp</span>14,698</span>,\n",
       " <span class=\"nowrap\"><span class=\"currencySymbol\">$</span>1 =</span>,\n",
       " <span class=\"nowrap\"><span class=\"currencySymbol\">Rp</span>14,698</span>,\n",
       " <span class=\"nowrap\"><span class=\"currencySymbol\">$</span>1 =</span>,\n",
       " <span class=\"nowrap\"><span class=\"currencySymbol\">Rp</span>14,776</span>]"
      ]
     },
     "execution_count": 27,
     "metadata": {},
     "output_type": "execute_result"
    }
   ],
   "source": [
    "table.find_all('span', attrs={'class':'nowrap'})[:10]"
   ]
  },
  {
   "cell_type": "code",
   "execution_count": 28,
   "metadata": {},
   "outputs": [
    {
     "data": {
      "text/plain": [
       "'$1 ='"
      ]
     },
     "execution_count": 28,
     "metadata": {},
     "output_type": "execute_result"
    }
   ],
   "source": [
    "table.find_all('span',attrs={'class':'nowrap'})[0].text"
   ]
  },
  {
   "cell_type": "code",
   "execution_count": 29,
   "metadata": {},
   "outputs": [
    {
     "data": {
      "text/plain": [
       "'Rp14,776'"
      ]
     },
     "execution_count": 29,
     "metadata": {},
     "output_type": "execute_result"
    }
   ],
   "source": [
    "table.find_all('span', attrs={'class':'nowrap'})[1].text"
   ]
  },
  {
   "cell_type": "markdown",
   "metadata": {},
   "source": [
    "Finding row length."
   ]
  },
  {
   "cell_type": "code",
   "execution_count": 30,
   "metadata": {
    "scrolled": true
   },
   "outputs": [
    {
     "data": {
      "text/plain": [
       "129"
      ]
     },
     "execution_count": 30,
     "metadata": {},
     "output_type": "execute_result"
    }
   ],
   "source": [
    "row = table.find_all('a', attrs={'class':'n'})\n",
    "row_length = len(row)\n",
    "row_length"
   ]
  },
  {
   "cell_type": "code",
   "execution_count": 31,
   "metadata": {},
   "outputs": [
    {
     "data": {
      "text/plain": [
       "516"
      ]
     },
     "execution_count": 31,
     "metadata": {},
     "output_type": "execute_result"
    }
   ],
   "source": [
    "row_kurs=table.find_all('span', attrs={'class':'nowrap'})\n",
    "row_length_kurs = len(row_kurs)\n",
    "row_length_kurs"
   ]
  },
  {
   "cell_type": "markdown",
   "metadata": {},
   "source": [
    "\n",
    "Do the scrapping process here (please change this markdown with your explanation)"
   ]
  },
  {
   "cell_type": "code",
   "execution_count": 32,
   "metadata": {
    "ExecuteTime": {
     "end_time": "2020-01-13T05:12:24.008256Z",
     "start_time": "2020-01-13T05:12:23.980358Z"
    }
   },
   "outputs": [
    {
     "data": {
      "text/plain": [
       "['2023-5-11',\n",
       " '2023-5-10',\n",
       " '2023-5-9',\n",
       " '2023-5-8',\n",
       " '2023-5-5',\n",
       " '2023-5-4',\n",
       " '2023-5-3',\n",
       " '2023-5-2',\n",
       " '2023-5-1',\n",
       " '2023-4-28',\n",
       " '2023-4-27',\n",
       " '2023-4-26',\n",
       " '2023-4-25',\n",
       " '2023-4-24',\n",
       " '2023-4-21',\n",
       " '2023-4-20',\n",
       " '2023-4-19',\n",
       " '2023-4-18',\n",
       " '2023-4-17',\n",
       " '2023-4-14',\n",
       " '2023-4-13',\n",
       " '2023-4-12',\n",
       " '2023-4-11',\n",
       " '2023-4-10',\n",
       " '2023-4-7',\n",
       " '2023-4-6',\n",
       " '2023-4-5',\n",
       " '2023-4-4',\n",
       " '2023-4-3',\n",
       " '2023-3-31',\n",
       " '2023-3-30',\n",
       " '2023-3-29',\n",
       " '2023-3-28',\n",
       " '2023-3-27',\n",
       " '2023-3-24',\n",
       " '2023-3-23',\n",
       " '2023-3-22',\n",
       " '2023-3-21',\n",
       " '2023-3-20',\n",
       " '2023-3-17',\n",
       " '2023-3-16',\n",
       " '2023-3-15',\n",
       " '2023-3-14',\n",
       " '2023-3-13',\n",
       " '2023-3-10',\n",
       " '2023-3-9',\n",
       " '2023-3-8',\n",
       " '2023-3-7',\n",
       " '2023-3-6',\n",
       " '2023-3-3',\n",
       " '2023-3-2',\n",
       " '2023-3-1',\n",
       " '2023-2-28',\n",
       " '2023-2-27',\n",
       " '2023-2-24',\n",
       " '2023-2-23',\n",
       " '2023-2-22',\n",
       " '2023-2-21',\n",
       " '2023-2-20',\n",
       " '2023-2-17',\n",
       " '2023-2-16',\n",
       " '2023-2-15',\n",
       " '2023-2-14',\n",
       " '2023-2-13',\n",
       " '2023-2-10',\n",
       " '2023-2-9',\n",
       " '2023-2-8',\n",
       " '2023-2-7',\n",
       " '2023-2-6',\n",
       " '2023-2-3',\n",
       " '2023-2-2',\n",
       " '2023-2-1',\n",
       " '2023-1-31',\n",
       " '2023-1-30',\n",
       " '2023-1-27',\n",
       " '2023-1-26',\n",
       " '2023-1-25',\n",
       " '2023-1-24',\n",
       " '2023-1-23',\n",
       " '2023-1-20',\n",
       " '2023-1-19',\n",
       " '2023-1-18',\n",
       " '2023-1-17',\n",
       " '2023-1-16',\n",
       " '2023-1-13',\n",
       " '2023-1-12',\n",
       " '2023-1-11',\n",
       " '2023-1-10',\n",
       " '2023-1-9',\n",
       " '2023-1-6',\n",
       " '2023-1-5',\n",
       " '2023-1-4',\n",
       " '2023-1-3',\n",
       " '2023-1-2',\n",
       " '2022-12-30',\n",
       " '2022-12-29',\n",
       " '2022-12-28',\n",
       " '2022-12-27',\n",
       " '2022-12-26',\n",
       " '2022-12-23',\n",
       " '2022-12-22',\n",
       " '2022-12-21',\n",
       " '2022-12-20',\n",
       " '2022-12-19',\n",
       " '2022-12-16',\n",
       " '2022-12-15',\n",
       " '2022-12-14',\n",
       " '2022-12-13',\n",
       " '2022-12-12',\n",
       " '2022-12-9',\n",
       " '2022-12-8',\n",
       " '2022-12-7',\n",
       " '2022-12-6',\n",
       " '2022-12-5',\n",
       " '2022-12-2',\n",
       " '2022-12-1',\n",
       " '2022-11-30',\n",
       " '2022-11-29',\n",
       " '2022-11-28',\n",
       " '2022-11-25',\n",
       " '2022-11-24',\n",
       " '2022-11-23',\n",
       " '2022-11-22',\n",
       " '2022-11-21',\n",
       " '2022-11-18',\n",
       " '2022-11-17',\n",
       " '2022-11-16',\n",
       " '2022-11-15',\n",
       " '2022-11-14']"
      ]
     },
     "execution_count": 32,
     "metadata": {},
     "output_type": "execute_result"
    }
   ],
   "source": [
    "Date = [] #initiating a tuple\n",
    "\n",
    "#scrapping process\n",
    "#get date\n",
    "for i in range(0, row_length):\n",
    "    date = table.find_all('a',attrs={'class':'n'})[i].text\n",
    "    \n",
    "    Date.append((date))\n",
    "Date"
   ]
  },
  {
   "cell_type": "code",
   "execution_count": 33,
   "metadata": {},
   "outputs": [
    {
     "data": {
      "text/plain": [
       "['Rp14,776',\n",
       " 'Rp14,698',\n",
       " 'Rp14,776',\n",
       " 'Rp14,744',\n",
       " 'Rp14,675',\n",
       " 'Rp14,699',\n",
       " 'Rp14,680',\n",
       " 'Rp14,747',\n",
       " 'Rp14,677',\n",
       " 'Rp14,674',\n",
       " 'Rp14,691',\n",
       " 'Rp14,841',\n",
       " 'Rp14,940',\n",
       " 'Rp14,934',\n",
       " 'Rp14,936',\n",
       " 'Rp14,954',\n",
       " 'Rp14,995',\n",
       " 'Rp14,889',\n",
       " 'Rp14,850',\n",
       " 'Rp14,782',\n",
       " 'Rp14,722',\n",
       " 'Rp14,835',\n",
       " 'Rp14,915',\n",
       " 'Rp14,950',\n",
       " 'Rp14,941',\n",
       " 'Rp14,931',\n",
       " 'Rp14,960',\n",
       " 'Rp14,957',\n",
       " 'Rp14,922',\n",
       " 'Rp14,969',\n",
       " 'Rp15,024',\n",
       " 'Rp15,034',\n",
       " 'Rp15,060',\n",
       " 'Rp15,107',\n",
       " 'Rp15,165',\n",
       " 'Rp15,085',\n",
       " 'Rp15,253',\n",
       " 'Rp15,301',\n",
       " 'Rp15,343',\n",
       " 'Rp15,375',\n",
       " 'Rp15,429',\n",
       " 'Rp15,459',\n",
       " 'Rp15,380',\n",
       " 'Rp15,416',\n",
       " 'Rp15,503',\n",
       " 'Rp15,495',\n",
       " 'Rp15,449',\n",
       " 'Rp15,429',\n",
       " 'Rp15,354',\n",
       " 'Rp15,278',\n",
       " 'Rp15,322',\n",
       " 'Rp15,249',\n",
       " 'Rp15,241',\n",
       " 'Rp15,216',\n",
       " 'Rp15,265',\n",
       " 'Rp15,211',\n",
       " 'Rp15,197',\n",
       " 'Rp15,235',\n",
       " 'Rp15,168',\n",
       " 'Rp15,166',\n",
       " 'Rp15,144',\n",
       " 'Rp15,205',\n",
       " 'Rp15,186',\n",
       " 'Rp15,216',\n",
       " 'Rp15,188',\n",
       " 'Rp15,147',\n",
       " 'Rp15,133',\n",
       " 'Rp15,154',\n",
       " 'Rp15,198',\n",
       " 'Rp15,095',\n",
       " 'Rp14,907',\n",
       " 'Rp14,896',\n",
       " 'Rp15,002',\n",
       " 'Rp15,013',\n",
       " 'Rp14,973',\n",
       " 'Rp14,955',\n",
       " 'Rp14,940',\n",
       " 'Rp14,956',\n",
       " 'Rp15,026',\n",
       " 'Rp15,063',\n",
       " 'Rp15,154',\n",
       " 'Rp15,138',\n",
       " 'Rp15,180',\n",
       " 'Rp15,126',\n",
       " 'Rp15,115',\n",
       " 'Rp15,206',\n",
       " 'Rp15,432',\n",
       " 'Rp15,536',\n",
       " 'Rp15,596',\n",
       " 'Rp15,607',\n",
       " 'Rp15,635',\n",
       " 'Rp15,582',\n",
       " 'Rp15,594',\n",
       " 'Rp15,554',\n",
       " 'Rp15,534',\n",
       " 'Rp15,627',\n",
       " 'Rp15,789',\n",
       " 'Rp15,620',\n",
       " 'Rp15,621',\n",
       " 'Rp15,582',\n",
       " 'Rp15,574',\n",
       " 'Rp15,540',\n",
       " 'Rp15,564',\n",
       " 'Rp15,568',\n",
       " 'Rp15,616',\n",
       " 'Rp15,629',\n",
       " 'Rp15,543',\n",
       " 'Rp15,560',\n",
       " 'Rp15,676',\n",
       " 'Rp15,604',\n",
       " 'Rp15,594',\n",
       " 'Rp15,612',\n",
       " 'Rp15,625',\n",
       " 'Rp15,520',\n",
       " 'Rp15,376',\n",
       " 'Rp15,389',\n",
       " 'Rp15,633',\n",
       " 'Rp15,734',\n",
       " 'Rp15,743',\n",
       " 'Rp15,693',\n",
       " 'Rp15,647',\n",
       " 'Rp15,626',\n",
       " 'Rp15,664',\n",
       " 'Rp15,741',\n",
       " 'Rp15,641',\n",
       " 'Rp15,714',\n",
       " 'Rp15,639',\n",
       " 'Rp15,557',\n",
       " 'Rp15,554']"
      ]
     },
     "execution_count": 33,
     "metadata": {},
     "output_type": "execute_result"
    }
   ],
   "source": [
    "USDtoIDR=[]\n",
    "for i in range(1,row_length_kurs,4):\n",
    "    kurs_Rp=table.find_all('span',attrs={'class':'nowrap'})[i].text\n",
    "    \n",
    "    USDtoIDR.append((kurs_Rp))\n",
    "USDtoIDR"
   ]
  },
  {
   "cell_type": "code",
   "execution_count": 34,
   "metadata": {},
   "outputs": [
    {
     "data": {
      "text/plain": [
       "[('2023-5-11', 'Rp14,776'),\n",
       " ('2023-5-10', 'Rp14,698'),\n",
       " ('2023-5-9', 'Rp14,776'),\n",
       " ('2023-5-8', 'Rp14,744'),\n",
       " ('2023-5-5', 'Rp14,675'),\n",
       " ('2023-5-4', 'Rp14,699'),\n",
       " ('2023-5-3', 'Rp14,680'),\n",
       " ('2023-5-2', 'Rp14,747'),\n",
       " ('2023-5-1', 'Rp14,677'),\n",
       " ('2023-4-28', 'Rp14,674'),\n",
       " ('2023-4-27', 'Rp14,691'),\n",
       " ('2023-4-26', 'Rp14,841'),\n",
       " ('2023-4-25', 'Rp14,940'),\n",
       " ('2023-4-24', 'Rp14,934'),\n",
       " ('2023-4-21', 'Rp14,936'),\n",
       " ('2023-4-20', 'Rp14,954'),\n",
       " ('2023-4-19', 'Rp14,995'),\n",
       " ('2023-4-18', 'Rp14,889'),\n",
       " ('2023-4-17', 'Rp14,850'),\n",
       " ('2023-4-14', 'Rp14,782'),\n",
       " ('2023-4-13', 'Rp14,722'),\n",
       " ('2023-4-12', 'Rp14,835'),\n",
       " ('2023-4-11', 'Rp14,915'),\n",
       " ('2023-4-10', 'Rp14,950'),\n",
       " ('2023-4-7', 'Rp14,941'),\n",
       " ('2023-4-6', 'Rp14,931'),\n",
       " ('2023-4-5', 'Rp14,960'),\n",
       " ('2023-4-4', 'Rp14,957'),\n",
       " ('2023-4-3', 'Rp14,922'),\n",
       " ('2023-3-31', 'Rp14,969'),\n",
       " ('2023-3-30', 'Rp15,024'),\n",
       " ('2023-3-29', 'Rp15,034'),\n",
       " ('2023-3-28', 'Rp15,060'),\n",
       " ('2023-3-27', 'Rp15,107'),\n",
       " ('2023-3-24', 'Rp15,165'),\n",
       " ('2023-3-23', 'Rp15,085'),\n",
       " ('2023-3-22', 'Rp15,253'),\n",
       " ('2023-3-21', 'Rp15,301'),\n",
       " ('2023-3-20', 'Rp15,343'),\n",
       " ('2023-3-17', 'Rp15,375'),\n",
       " ('2023-3-16', 'Rp15,429'),\n",
       " ('2023-3-15', 'Rp15,459'),\n",
       " ('2023-3-14', 'Rp15,380'),\n",
       " ('2023-3-13', 'Rp15,416'),\n",
       " ('2023-3-10', 'Rp15,503'),\n",
       " ('2023-3-9', 'Rp15,495'),\n",
       " ('2023-3-8', 'Rp15,449'),\n",
       " ('2023-3-7', 'Rp15,429'),\n",
       " ('2023-3-6', 'Rp15,354'),\n",
       " ('2023-3-3', 'Rp15,278'),\n",
       " ('2023-3-2', 'Rp15,322'),\n",
       " ('2023-3-1', 'Rp15,249'),\n",
       " ('2023-2-28', 'Rp15,241'),\n",
       " ('2023-2-27', 'Rp15,216'),\n",
       " ('2023-2-24', 'Rp15,265'),\n",
       " ('2023-2-23', 'Rp15,211'),\n",
       " ('2023-2-22', 'Rp15,197'),\n",
       " ('2023-2-21', 'Rp15,235'),\n",
       " ('2023-2-20', 'Rp15,168'),\n",
       " ('2023-2-17', 'Rp15,166'),\n",
       " ('2023-2-16', 'Rp15,144'),\n",
       " ('2023-2-15', 'Rp15,205'),\n",
       " ('2023-2-14', 'Rp15,186'),\n",
       " ('2023-2-13', 'Rp15,216'),\n",
       " ('2023-2-10', 'Rp15,188'),\n",
       " ('2023-2-9', 'Rp15,147'),\n",
       " ('2023-2-8', 'Rp15,133'),\n",
       " ('2023-2-7', 'Rp15,154'),\n",
       " ('2023-2-6', 'Rp15,198'),\n",
       " ('2023-2-3', 'Rp15,095'),\n",
       " ('2023-2-2', 'Rp14,907'),\n",
       " ('2023-2-1', 'Rp14,896'),\n",
       " ('2023-1-31', 'Rp15,002'),\n",
       " ('2023-1-30', 'Rp15,013'),\n",
       " ('2023-1-27', 'Rp14,973'),\n",
       " ('2023-1-26', 'Rp14,955'),\n",
       " ('2023-1-25', 'Rp14,940'),\n",
       " ('2023-1-24', 'Rp14,956'),\n",
       " ('2023-1-23', 'Rp15,026'),\n",
       " ('2023-1-20', 'Rp15,063'),\n",
       " ('2023-1-19', 'Rp15,154'),\n",
       " ('2023-1-18', 'Rp15,138'),\n",
       " ('2023-1-17', 'Rp15,180'),\n",
       " ('2023-1-16', 'Rp15,126'),\n",
       " ('2023-1-13', 'Rp15,115'),\n",
       " ('2023-1-12', 'Rp15,206'),\n",
       " ('2023-1-11', 'Rp15,432'),\n",
       " ('2023-1-10', 'Rp15,536'),\n",
       " ('2023-1-9', 'Rp15,596'),\n",
       " ('2023-1-6', 'Rp15,607'),\n",
       " ('2023-1-5', 'Rp15,635'),\n",
       " ('2023-1-4', 'Rp15,582'),\n",
       " ('2023-1-3', 'Rp15,594'),\n",
       " ('2023-1-2', 'Rp15,554'),\n",
       " ('2022-12-30', 'Rp15,534'),\n",
       " ('2022-12-29', 'Rp15,627'),\n",
       " ('2022-12-28', 'Rp15,789'),\n",
       " ('2022-12-27', 'Rp15,620'),\n",
       " ('2022-12-26', 'Rp15,621'),\n",
       " ('2022-12-23', 'Rp15,582'),\n",
       " ('2022-12-22', 'Rp15,574'),\n",
       " ('2022-12-21', 'Rp15,540'),\n",
       " ('2022-12-20', 'Rp15,564'),\n",
       " ('2022-12-19', 'Rp15,568'),\n",
       " ('2022-12-16', 'Rp15,616'),\n",
       " ('2022-12-15', 'Rp15,629'),\n",
       " ('2022-12-14', 'Rp15,543'),\n",
       " ('2022-12-13', 'Rp15,560'),\n",
       " ('2022-12-12', 'Rp15,676'),\n",
       " ('2022-12-9', 'Rp15,604'),\n",
       " ('2022-12-8', 'Rp15,594'),\n",
       " ('2022-12-7', 'Rp15,612'),\n",
       " ('2022-12-6', 'Rp15,625'),\n",
       " ('2022-12-5', 'Rp15,520'),\n",
       " ('2022-12-2', 'Rp15,376'),\n",
       " ('2022-12-1', 'Rp15,389'),\n",
       " ('2022-11-30', 'Rp15,633'),\n",
       " ('2022-11-29', 'Rp15,734'),\n",
       " ('2022-11-28', 'Rp15,743'),\n",
       " ('2022-11-25', 'Rp15,693'),\n",
       " ('2022-11-24', 'Rp15,647'),\n",
       " ('2022-11-23', 'Rp15,626'),\n",
       " ('2022-11-22', 'Rp15,664'),\n",
       " ('2022-11-21', 'Rp15,741'),\n",
       " ('2022-11-18', 'Rp15,641'),\n",
       " ('2022-11-17', 'Rp15,714'),\n",
       " ('2022-11-16', 'Rp15,639'),\n",
       " ('2022-11-15', 'Rp15,557'),\n",
       " ('2022-11-14', 'Rp15,554')]"
      ]
     },
     "execution_count": 34,
     "metadata": {},
     "output_type": "execute_result"
    }
   ],
   "source": [
    "Exchange = list(zip(Date,USDtoIDR))\n",
    "Exchange"
   ]
  },
  {
   "cell_type": "code",
   "execution_count": 35,
   "metadata": {},
   "outputs": [
    {
     "data": {
      "text/plain": [
       "[('2022-11-14', 'Rp15,554'),\n",
       " ('2022-11-15', 'Rp15,557'),\n",
       " ('2022-11-16', 'Rp15,639'),\n",
       " ('2022-11-17', 'Rp15,714'),\n",
       " ('2022-11-18', 'Rp15,641'),\n",
       " ('2022-11-21', 'Rp15,741'),\n",
       " ('2022-11-22', 'Rp15,664'),\n",
       " ('2022-11-23', 'Rp15,626'),\n",
       " ('2022-11-24', 'Rp15,647'),\n",
       " ('2022-11-25', 'Rp15,693')]"
      ]
     },
     "execution_count": 35,
     "metadata": {},
     "output_type": "execute_result"
    }
   ],
   "source": [
    "Exchange=Exchange[::-1]\n",
    "Exchange[:10]"
   ]
  },
  {
   "cell_type": "markdown",
   "metadata": {},
   "source": [
    "## Creating data frame & Data wrangling"
   ]
  },
  {
   "cell_type": "markdown",
   "metadata": {},
   "source": [
    "Put the array into dataframe"
   ]
  },
  {
   "cell_type": "code",
   "execution_count": 36,
   "metadata": {
    "ExecuteTime": {
     "end_time": "2020-01-13T05:12:41.517372Z",
     "start_time": "2020-01-13T05:12:29.130015Z"
    }
   },
   "outputs": [
    {
     "data": {
      "text/html": [
       "<div>\n",
       "<style scoped>\n",
       "    .dataframe tbody tr th:only-of-type {\n",
       "        vertical-align: middle;\n",
       "    }\n",
       "\n",
       "    .dataframe tbody tr th {\n",
       "        vertical-align: top;\n",
       "    }\n",
       "\n",
       "    .dataframe thead th {\n",
       "        text-align: right;\n",
       "    }\n",
       "</style>\n",
       "<table border=\"1\" class=\"dataframe\">\n",
       "  <thead>\n",
       "    <tr style=\"text-align: right;\">\n",
       "      <th></th>\n",
       "      <th>Date</th>\n",
       "      <th>USDtoIDR</th>\n",
       "    </tr>\n",
       "  </thead>\n",
       "  <tbody>\n",
       "    <tr>\n",
       "      <th>0</th>\n",
       "      <td>2022-11-14</td>\n",
       "      <td>Rp15,554</td>\n",
       "    </tr>\n",
       "    <tr>\n",
       "      <th>1</th>\n",
       "      <td>2022-11-15</td>\n",
       "      <td>Rp15,557</td>\n",
       "    </tr>\n",
       "    <tr>\n",
       "      <th>2</th>\n",
       "      <td>2022-11-16</td>\n",
       "      <td>Rp15,639</td>\n",
       "    </tr>\n",
       "    <tr>\n",
       "      <th>3</th>\n",
       "      <td>2022-11-17</td>\n",
       "      <td>Rp15,714</td>\n",
       "    </tr>\n",
       "    <tr>\n",
       "      <th>4</th>\n",
       "      <td>2022-11-18</td>\n",
       "      <td>Rp15,641</td>\n",
       "    </tr>\n",
       "    <tr>\n",
       "      <th>5</th>\n",
       "      <td>2022-11-21</td>\n",
       "      <td>Rp15,741</td>\n",
       "    </tr>\n",
       "    <tr>\n",
       "      <th>6</th>\n",
       "      <td>2022-11-22</td>\n",
       "      <td>Rp15,664</td>\n",
       "    </tr>\n",
       "    <tr>\n",
       "      <th>7</th>\n",
       "      <td>2022-11-23</td>\n",
       "      <td>Rp15,626</td>\n",
       "    </tr>\n",
       "    <tr>\n",
       "      <th>8</th>\n",
       "      <td>2022-11-24</td>\n",
       "      <td>Rp15,647</td>\n",
       "    </tr>\n",
       "    <tr>\n",
       "      <th>9</th>\n",
       "      <td>2022-11-25</td>\n",
       "      <td>Rp15,693</td>\n",
       "    </tr>\n",
       "  </tbody>\n",
       "</table>\n",
       "</div>"
      ],
      "text/plain": [
       "         Date  USDtoIDR\n",
       "0  2022-11-14  Rp15,554\n",
       "1  2022-11-15  Rp15,557\n",
       "2  2022-11-16  Rp15,639\n",
       "3  2022-11-17  Rp15,714\n",
       "4  2022-11-18  Rp15,641\n",
       "5  2022-11-21  Rp15,741\n",
       "6  2022-11-22  Rp15,664\n",
       "7  2022-11-23  Rp15,626\n",
       "8  2022-11-24  Rp15,647\n",
       "9  2022-11-25  Rp15,693"
      ]
     },
     "execution_count": 36,
     "metadata": {},
     "output_type": "execute_result"
    }
   ],
   "source": [
    "import pandas as pd\n",
    "\n",
    "df = pd.DataFrame(Exchange, columns=['Date','USDtoIDR'])\n",
    "df.head(10)"
   ]
  },
  {
   "cell_type": "markdown",
   "metadata": {},
   "source": [
    "Do the data cleaning here (please change this markdown with your explanation of what you do for data wrangling)"
   ]
  },
  {
   "cell_type": "code",
   "execution_count": 37,
   "metadata": {},
   "outputs": [
    {
     "data": {
      "text/plain": [
       "Date        datetime64[ns]\n",
       "USDtoIDR           float64\n",
       "dtype: object"
      ]
     },
     "execution_count": 37,
     "metadata": {},
     "output_type": "execute_result"
    }
   ],
   "source": [
    "df['USDtoIDR'] = df['USDtoIDR'].str.replace(\"Rp\",\"\")\n",
    "df['USDtoIDR'] = df['USDtoIDR'].str.replace(\",\",\"\")\n",
    "df['USDtoIDR'] = df['USDtoIDR'].astype('float64')\n",
    "df['Date'] = pd.to_datetime(df['Date'], format='%Y-%m-%d')\n",
    "\n",
    "\n",
    "df.dtypes"
   ]
  },
  {
   "cell_type": "markdown",
   "metadata": {},
   "source": [
    "Data visualisation (please change this markdown with your explanation of what you do for data wrangling)"
   ]
  },
  {
   "cell_type": "markdown",
   "metadata": {},
   "source": [
    "> By the data i have scraped from `https://www.exchange-rates.org/exchange-rate-history/usd-idr` about USD to IDR exchange rate, i have done some wrangling data to convert complex content into a simple dataframe. First I wrote the code to create a dataframe using the data I had collected before then I combined the data data to be used as columns for the data frame. Then in the next code I changed the data type to facilitate computation when processing data later. I used the `str.replace` function in the USD to IDR column to change the data content in the column which previously had many unique characters to just numbers and then changed the data type to float. And I changed the data type for the date column to the datetime data type. "
   ]
  },
  {
   "cell_type": "markdown",
   "metadata": {},
   "source": [
    "### Implementing your webscrapping to the flask dashboard\n",
    "\n",
    "- Copy paste all of your web scrapping process to the desired position on the `app.py`\n",
    "- Changing the title of the dasboard at `index.html`"
   ]
  },
  {
   "cell_type": "markdown",
   "metadata": {},
   "source": [
    "## Finishing This Notebook with Your Analysis and Conclusion\n",
    "\n",
    "First you can do start with making the data visualisation. "
   ]
  },
  {
   "cell_type": "code",
   "execution_count": 19,
   "metadata": {
    "ExecuteTime": {
     "end_time": "2020-01-13T05:20:56.208237Z",
     "start_time": "2020-01-13T05:20:56.076043Z"
    }
   },
   "outputs": [
    {
     "data": {
      "application/vnd.plotly.v1+json": {
       "config": {
        "plotlyServerURL": "https://plot.ly"
       },
       "data": [
        {
         "mode": "lines",
         "name": "USD to IDR",
         "type": "scatter",
         "x": [
          "2022-11-14T00:00:00",
          "2022-11-15T00:00:00",
          "2022-11-16T00:00:00",
          "2022-11-17T00:00:00",
          "2022-11-18T00:00:00",
          "2022-11-21T00:00:00",
          "2022-11-22T00:00:00",
          "2022-11-23T00:00:00",
          "2022-11-24T00:00:00",
          "2022-11-25T00:00:00",
          "2022-11-28T00:00:00",
          "2022-11-29T00:00:00",
          "2022-11-30T00:00:00",
          "2022-12-01T00:00:00",
          "2022-12-02T00:00:00",
          "2022-12-05T00:00:00",
          "2022-12-06T00:00:00",
          "2022-12-07T00:00:00",
          "2022-12-08T00:00:00",
          "2022-12-09T00:00:00",
          "2022-12-12T00:00:00",
          "2022-12-13T00:00:00",
          "2022-12-14T00:00:00",
          "2022-12-15T00:00:00",
          "2022-12-16T00:00:00",
          "2022-12-19T00:00:00",
          "2022-12-20T00:00:00",
          "2022-12-21T00:00:00",
          "2022-12-22T00:00:00",
          "2022-12-23T00:00:00",
          "2022-12-26T00:00:00",
          "2022-12-27T00:00:00",
          "2022-12-28T00:00:00",
          "2022-12-29T00:00:00",
          "2022-12-30T00:00:00",
          "2023-01-02T00:00:00",
          "2023-01-03T00:00:00",
          "2023-01-04T00:00:00",
          "2023-01-05T00:00:00",
          "2023-01-06T00:00:00",
          "2023-01-09T00:00:00",
          "2023-01-10T00:00:00",
          "2023-01-11T00:00:00",
          "2023-01-12T00:00:00",
          "2023-01-13T00:00:00",
          "2023-01-16T00:00:00",
          "2023-01-17T00:00:00",
          "2023-01-18T00:00:00",
          "2023-01-19T00:00:00",
          "2023-01-20T00:00:00",
          "2023-01-23T00:00:00",
          "2023-01-24T00:00:00",
          "2023-01-25T00:00:00",
          "2023-01-26T00:00:00",
          "2023-01-27T00:00:00",
          "2023-01-30T00:00:00",
          "2023-01-31T00:00:00",
          "2023-02-01T00:00:00",
          "2023-02-02T00:00:00",
          "2023-02-03T00:00:00",
          "2023-02-06T00:00:00",
          "2023-02-07T00:00:00",
          "2023-02-08T00:00:00",
          "2023-02-09T00:00:00",
          "2023-02-10T00:00:00",
          "2023-02-13T00:00:00",
          "2023-02-14T00:00:00",
          "2023-02-15T00:00:00",
          "2023-02-16T00:00:00",
          "2023-02-17T00:00:00",
          "2023-02-20T00:00:00",
          "2023-02-21T00:00:00",
          "2023-02-22T00:00:00",
          "2023-02-23T00:00:00",
          "2023-02-24T00:00:00",
          "2023-02-27T00:00:00",
          "2023-02-28T00:00:00",
          "2023-03-01T00:00:00",
          "2023-03-02T00:00:00",
          "2023-03-03T00:00:00",
          "2023-03-06T00:00:00",
          "2023-03-07T00:00:00",
          "2023-03-08T00:00:00",
          "2023-03-09T00:00:00",
          "2023-03-10T00:00:00",
          "2023-03-13T00:00:00",
          "2023-03-14T00:00:00",
          "2023-03-15T00:00:00",
          "2023-03-16T00:00:00",
          "2023-03-17T00:00:00",
          "2023-03-20T00:00:00",
          "2023-03-21T00:00:00",
          "2023-03-22T00:00:00",
          "2023-03-23T00:00:00",
          "2023-03-24T00:00:00",
          "2023-03-27T00:00:00",
          "2023-03-28T00:00:00",
          "2023-03-29T00:00:00",
          "2023-03-30T00:00:00",
          "2023-03-31T00:00:00",
          "2023-04-03T00:00:00",
          "2023-04-04T00:00:00",
          "2023-04-05T00:00:00",
          "2023-04-06T00:00:00",
          "2023-04-07T00:00:00",
          "2023-04-10T00:00:00",
          "2023-04-11T00:00:00",
          "2023-04-12T00:00:00",
          "2023-04-13T00:00:00",
          "2023-04-14T00:00:00",
          "2023-04-17T00:00:00",
          "2023-04-18T00:00:00",
          "2023-04-19T00:00:00",
          "2023-04-20T00:00:00",
          "2023-04-21T00:00:00",
          "2023-04-24T00:00:00",
          "2023-04-25T00:00:00",
          "2023-04-26T00:00:00",
          "2023-04-27T00:00:00",
          "2023-04-28T00:00:00",
          "2023-05-01T00:00:00",
          "2023-05-02T00:00:00",
          "2023-05-03T00:00:00",
          "2023-05-04T00:00:00",
          "2023-05-05T00:00:00",
          "2023-05-08T00:00:00",
          "2023-05-09T00:00:00",
          "2023-05-10T00:00:00",
          "2023-05-11T00:00:00"
         ],
         "y": [
          15554,
          15557,
          15639,
          15714,
          15641,
          15741,
          15664,
          15626,
          15647,
          15693,
          15743,
          15734,
          15633,
          15389,
          15376,
          15520,
          15625,
          15612,
          15594,
          15604,
          15676,
          15560,
          15543,
          15629,
          15616,
          15568,
          15564,
          15540,
          15574,
          15582,
          15621,
          15620,
          15789,
          15627,
          15534,
          15554,
          15594,
          15582,
          15635,
          15607,
          15596,
          15536,
          15432,
          15206,
          15115,
          15126,
          15180,
          15138,
          15154,
          15063,
          15026,
          14956,
          14940,
          14955,
          14973,
          15013,
          15002,
          14896,
          14907,
          15095,
          15198,
          15154,
          15133,
          15147,
          15188,
          15216,
          15186,
          15205,
          15144,
          15166,
          15168,
          15235,
          15197,
          15211,
          15265,
          15216,
          15241,
          15249,
          15322,
          15278,
          15354,
          15429,
          15449,
          15495,
          15503,
          15416,
          15380,
          15459,
          15429,
          15375,
          15343,
          15301,
          15253,
          15085,
          15165,
          15107,
          15060,
          15034,
          15024,
          14969,
          14922,
          14957,
          14960,
          14931,
          14941,
          14950,
          14915,
          14835,
          14722,
          14782,
          14850,
          14889,
          14995,
          14954,
          14936,
          14934,
          14940,
          14841,
          14691,
          14674,
          14677,
          14747,
          14680,
          14699,
          14675,
          14744,
          14776,
          14698,
          14776
         ]
        }
       ],
       "layout": {
        "font": {
         "size": 18
        },
        "template": {
         "data": {
          "bar": [
           {
            "error_x": {
             "color": "#2a3f5f"
            },
            "error_y": {
             "color": "#2a3f5f"
            },
            "marker": {
             "line": {
              "color": "#E5ECF6",
              "width": 0.5
             },
             "pattern": {
              "fillmode": "overlay",
              "size": 10,
              "solidity": 0.2
             }
            },
            "type": "bar"
           }
          ],
          "barpolar": [
           {
            "marker": {
             "line": {
              "color": "#E5ECF6",
              "width": 0.5
             },
             "pattern": {
              "fillmode": "overlay",
              "size": 10,
              "solidity": 0.2
             }
            },
            "type": "barpolar"
           }
          ],
          "carpet": [
           {
            "aaxis": {
             "endlinecolor": "#2a3f5f",
             "gridcolor": "white",
             "linecolor": "white",
             "minorgridcolor": "white",
             "startlinecolor": "#2a3f5f"
            },
            "baxis": {
             "endlinecolor": "#2a3f5f",
             "gridcolor": "white",
             "linecolor": "white",
             "minorgridcolor": "white",
             "startlinecolor": "#2a3f5f"
            },
            "type": "carpet"
           }
          ],
          "choropleth": [
           {
            "colorbar": {
             "outlinewidth": 0,
             "ticks": ""
            },
            "type": "choropleth"
           }
          ],
          "contour": [
           {
            "colorbar": {
             "outlinewidth": 0,
             "ticks": ""
            },
            "colorscale": [
             [
              0,
              "#0d0887"
             ],
             [
              0.1111111111111111,
              "#46039f"
             ],
             [
              0.2222222222222222,
              "#7201a8"
             ],
             [
              0.3333333333333333,
              "#9c179e"
             ],
             [
              0.4444444444444444,
              "#bd3786"
             ],
             [
              0.5555555555555556,
              "#d8576b"
             ],
             [
              0.6666666666666666,
              "#ed7953"
             ],
             [
              0.7777777777777778,
              "#fb9f3a"
             ],
             [
              0.8888888888888888,
              "#fdca26"
             ],
             [
              1,
              "#f0f921"
             ]
            ],
            "type": "contour"
           }
          ],
          "contourcarpet": [
           {
            "colorbar": {
             "outlinewidth": 0,
             "ticks": ""
            },
            "type": "contourcarpet"
           }
          ],
          "heatmap": [
           {
            "colorbar": {
             "outlinewidth": 0,
             "ticks": ""
            },
            "colorscale": [
             [
              0,
              "#0d0887"
             ],
             [
              0.1111111111111111,
              "#46039f"
             ],
             [
              0.2222222222222222,
              "#7201a8"
             ],
             [
              0.3333333333333333,
              "#9c179e"
             ],
             [
              0.4444444444444444,
              "#bd3786"
             ],
             [
              0.5555555555555556,
              "#d8576b"
             ],
             [
              0.6666666666666666,
              "#ed7953"
             ],
             [
              0.7777777777777778,
              "#fb9f3a"
             ],
             [
              0.8888888888888888,
              "#fdca26"
             ],
             [
              1,
              "#f0f921"
             ]
            ],
            "type": "heatmap"
           }
          ],
          "heatmapgl": [
           {
            "colorbar": {
             "outlinewidth": 0,
             "ticks": ""
            },
            "colorscale": [
             [
              0,
              "#0d0887"
             ],
             [
              0.1111111111111111,
              "#46039f"
             ],
             [
              0.2222222222222222,
              "#7201a8"
             ],
             [
              0.3333333333333333,
              "#9c179e"
             ],
             [
              0.4444444444444444,
              "#bd3786"
             ],
             [
              0.5555555555555556,
              "#d8576b"
             ],
             [
              0.6666666666666666,
              "#ed7953"
             ],
             [
              0.7777777777777778,
              "#fb9f3a"
             ],
             [
              0.8888888888888888,
              "#fdca26"
             ],
             [
              1,
              "#f0f921"
             ]
            ],
            "type": "heatmapgl"
           }
          ],
          "histogram": [
           {
            "marker": {
             "pattern": {
              "fillmode": "overlay",
              "size": 10,
              "solidity": 0.2
             }
            },
            "type": "histogram"
           }
          ],
          "histogram2d": [
           {
            "colorbar": {
             "outlinewidth": 0,
             "ticks": ""
            },
            "colorscale": [
             [
              0,
              "#0d0887"
             ],
             [
              0.1111111111111111,
              "#46039f"
             ],
             [
              0.2222222222222222,
              "#7201a8"
             ],
             [
              0.3333333333333333,
              "#9c179e"
             ],
             [
              0.4444444444444444,
              "#bd3786"
             ],
             [
              0.5555555555555556,
              "#d8576b"
             ],
             [
              0.6666666666666666,
              "#ed7953"
             ],
             [
              0.7777777777777778,
              "#fb9f3a"
             ],
             [
              0.8888888888888888,
              "#fdca26"
             ],
             [
              1,
              "#f0f921"
             ]
            ],
            "type": "histogram2d"
           }
          ],
          "histogram2dcontour": [
           {
            "colorbar": {
             "outlinewidth": 0,
             "ticks": ""
            },
            "colorscale": [
             [
              0,
              "#0d0887"
             ],
             [
              0.1111111111111111,
              "#46039f"
             ],
             [
              0.2222222222222222,
              "#7201a8"
             ],
             [
              0.3333333333333333,
              "#9c179e"
             ],
             [
              0.4444444444444444,
              "#bd3786"
             ],
             [
              0.5555555555555556,
              "#d8576b"
             ],
             [
              0.6666666666666666,
              "#ed7953"
             ],
             [
              0.7777777777777778,
              "#fb9f3a"
             ],
             [
              0.8888888888888888,
              "#fdca26"
             ],
             [
              1,
              "#f0f921"
             ]
            ],
            "type": "histogram2dcontour"
           }
          ],
          "mesh3d": [
           {
            "colorbar": {
             "outlinewidth": 0,
             "ticks": ""
            },
            "type": "mesh3d"
           }
          ],
          "parcoords": [
           {
            "line": {
             "colorbar": {
              "outlinewidth": 0,
              "ticks": ""
             }
            },
            "type": "parcoords"
           }
          ],
          "pie": [
           {
            "automargin": true,
            "type": "pie"
           }
          ],
          "scatter": [
           {
            "fillpattern": {
             "fillmode": "overlay",
             "size": 10,
             "solidity": 0.2
            },
            "type": "scatter"
           }
          ],
          "scatter3d": [
           {
            "line": {
             "colorbar": {
              "outlinewidth": 0,
              "ticks": ""
             }
            },
            "marker": {
             "colorbar": {
              "outlinewidth": 0,
              "ticks": ""
             }
            },
            "type": "scatter3d"
           }
          ],
          "scattercarpet": [
           {
            "marker": {
             "colorbar": {
              "outlinewidth": 0,
              "ticks": ""
             }
            },
            "type": "scattercarpet"
           }
          ],
          "scattergeo": [
           {
            "marker": {
             "colorbar": {
              "outlinewidth": 0,
              "ticks": ""
             }
            },
            "type": "scattergeo"
           }
          ],
          "scattergl": [
           {
            "marker": {
             "colorbar": {
              "outlinewidth": 0,
              "ticks": ""
             }
            },
            "type": "scattergl"
           }
          ],
          "scattermapbox": [
           {
            "marker": {
             "colorbar": {
              "outlinewidth": 0,
              "ticks": ""
             }
            },
            "type": "scattermapbox"
           }
          ],
          "scatterpolar": [
           {
            "marker": {
             "colorbar": {
              "outlinewidth": 0,
              "ticks": ""
             }
            },
            "type": "scatterpolar"
           }
          ],
          "scatterpolargl": [
           {
            "marker": {
             "colorbar": {
              "outlinewidth": 0,
              "ticks": ""
             }
            },
            "type": "scatterpolargl"
           }
          ],
          "scatterternary": [
           {
            "marker": {
             "colorbar": {
              "outlinewidth": 0,
              "ticks": ""
             }
            },
            "type": "scatterternary"
           }
          ],
          "surface": [
           {
            "colorbar": {
             "outlinewidth": 0,
             "ticks": ""
            },
            "colorscale": [
             [
              0,
              "#0d0887"
             ],
             [
              0.1111111111111111,
              "#46039f"
             ],
             [
              0.2222222222222222,
              "#7201a8"
             ],
             [
              0.3333333333333333,
              "#9c179e"
             ],
             [
              0.4444444444444444,
              "#bd3786"
             ],
             [
              0.5555555555555556,
              "#d8576b"
             ],
             [
              0.6666666666666666,
              "#ed7953"
             ],
             [
              0.7777777777777778,
              "#fb9f3a"
             ],
             [
              0.8888888888888888,
              "#fdca26"
             ],
             [
              1,
              "#f0f921"
             ]
            ],
            "type": "surface"
           }
          ],
          "table": [
           {
            "cells": {
             "fill": {
              "color": "#EBF0F8"
             },
             "line": {
              "color": "white"
             }
            },
            "header": {
             "fill": {
              "color": "#C8D4E3"
             },
             "line": {
              "color": "white"
             }
            },
            "type": "table"
           }
          ]
         },
         "layout": {
          "annotationdefaults": {
           "arrowcolor": "#2a3f5f",
           "arrowhead": 0,
           "arrowwidth": 1
          },
          "autotypenumbers": "strict",
          "coloraxis": {
           "colorbar": {
            "outlinewidth": 0,
            "ticks": ""
           }
          },
          "colorscale": {
           "diverging": [
            [
             0,
             "#8e0152"
            ],
            [
             0.1,
             "#c51b7d"
            ],
            [
             0.2,
             "#de77ae"
            ],
            [
             0.3,
             "#f1b6da"
            ],
            [
             0.4,
             "#fde0ef"
            ],
            [
             0.5,
             "#f7f7f7"
            ],
            [
             0.6,
             "#e6f5d0"
            ],
            [
             0.7,
             "#b8e186"
            ],
            [
             0.8,
             "#7fbc41"
            ],
            [
             0.9,
             "#4d9221"
            ],
            [
             1,
             "#276419"
            ]
           ],
           "sequential": [
            [
             0,
             "#0d0887"
            ],
            [
             0.1111111111111111,
             "#46039f"
            ],
            [
             0.2222222222222222,
             "#7201a8"
            ],
            [
             0.3333333333333333,
             "#9c179e"
            ],
            [
             0.4444444444444444,
             "#bd3786"
            ],
            [
             0.5555555555555556,
             "#d8576b"
            ],
            [
             0.6666666666666666,
             "#ed7953"
            ],
            [
             0.7777777777777778,
             "#fb9f3a"
            ],
            [
             0.8888888888888888,
             "#fdca26"
            ],
            [
             1,
             "#f0f921"
            ]
           ],
           "sequentialminus": [
            [
             0,
             "#0d0887"
            ],
            [
             0.1111111111111111,
             "#46039f"
            ],
            [
             0.2222222222222222,
             "#7201a8"
            ],
            [
             0.3333333333333333,
             "#9c179e"
            ],
            [
             0.4444444444444444,
             "#bd3786"
            ],
            [
             0.5555555555555556,
             "#d8576b"
            ],
            [
             0.6666666666666666,
             "#ed7953"
            ],
            [
             0.7777777777777778,
             "#fb9f3a"
            ],
            [
             0.8888888888888888,
             "#fdca26"
            ],
            [
             1,
             "#f0f921"
            ]
           ]
          },
          "colorway": [
           "#636efa",
           "#EF553B",
           "#00cc96",
           "#ab63fa",
           "#FFA15A",
           "#19d3f3",
           "#FF6692",
           "#B6E880",
           "#FF97FF",
           "#FECB52"
          ],
          "font": {
           "color": "#2a3f5f"
          },
          "geo": {
           "bgcolor": "white",
           "lakecolor": "white",
           "landcolor": "#E5ECF6",
           "showlakes": true,
           "showland": true,
           "subunitcolor": "white"
          },
          "hoverlabel": {
           "align": "left"
          },
          "hovermode": "closest",
          "mapbox": {
           "style": "light"
          },
          "paper_bgcolor": "white",
          "plot_bgcolor": "#E5ECF6",
          "polar": {
           "angularaxis": {
            "gridcolor": "white",
            "linecolor": "white",
            "ticks": ""
           },
           "bgcolor": "#E5ECF6",
           "radialaxis": {
            "gridcolor": "white",
            "linecolor": "white",
            "ticks": ""
           }
          },
          "scene": {
           "xaxis": {
            "backgroundcolor": "#E5ECF6",
            "gridcolor": "white",
            "gridwidth": 2,
            "linecolor": "white",
            "showbackground": true,
            "ticks": "",
            "zerolinecolor": "white"
           },
           "yaxis": {
            "backgroundcolor": "#E5ECF6",
            "gridcolor": "white",
            "gridwidth": 2,
            "linecolor": "white",
            "showbackground": true,
            "ticks": "",
            "zerolinecolor": "white"
           },
           "zaxis": {
            "backgroundcolor": "#E5ECF6",
            "gridcolor": "white",
            "gridwidth": 2,
            "linecolor": "white",
            "showbackground": true,
            "ticks": "",
            "zerolinecolor": "white"
           }
          },
          "shapedefaults": {
           "line": {
            "color": "#2a3f5f"
           }
          },
          "ternary": {
           "aaxis": {
            "gridcolor": "white",
            "linecolor": "white",
            "ticks": ""
           },
           "baxis": {
            "gridcolor": "white",
            "linecolor": "white",
            "ticks": ""
           },
           "bgcolor": "#E5ECF6",
           "caxis": {
            "gridcolor": "white",
            "linecolor": "white",
            "ticks": ""
           }
          },
          "title": {
           "x": 0.05
          },
          "xaxis": {
           "automargin": true,
           "gridcolor": "white",
           "linecolor": "white",
           "ticks": "",
           "title": {
            "standoff": 15
           },
           "zerolinecolor": "white",
           "zerolinewidth": 2
          },
          "yaxis": {
           "automargin": true,
           "gridcolor": "white",
           "linecolor": "white",
           "ticks": "",
           "title": {
            "standoff": 15
           },
           "zerolinecolor": "white",
           "zerolinewidth": 2
          }
         }
        },
        "title": {
         "text": "USD to IDR Exchange Rates"
        },
        "xaxis": {
         "title": {
          "text": "Date"
         }
        },
        "yaxis": {
         "title": {
          "text": "Exchange Rate (IDR per USD)"
         }
        }
       }
      },
      "text/html": [
       "<div>                            <div id=\"ee28ce6f-d9f7-4cbf-b37b-a0b3f877d9eb\" class=\"plotly-graph-div\" style=\"height:525px; width:100%;\"></div>            <script type=\"text/javascript\">                require([\"plotly\"], function(Plotly) {                    window.PLOTLYENV=window.PLOTLYENV || {};                                    if (document.getElementById(\"ee28ce6f-d9f7-4cbf-b37b-a0b3f877d9eb\")) {                    Plotly.newPlot(                        \"ee28ce6f-d9f7-4cbf-b37b-a0b3f877d9eb\",                        [{\"mode\":\"lines\",\"name\":\"USD to IDR\",\"x\":[\"2022-11-14T00:00:00\",\"2022-11-15T00:00:00\",\"2022-11-16T00:00:00\",\"2022-11-17T00:00:00\",\"2022-11-18T00:00:00\",\"2022-11-21T00:00:00\",\"2022-11-22T00:00:00\",\"2022-11-23T00:00:00\",\"2022-11-24T00:00:00\",\"2022-11-25T00:00:00\",\"2022-11-28T00:00:00\",\"2022-11-29T00:00:00\",\"2022-11-30T00:00:00\",\"2022-12-01T00:00:00\",\"2022-12-02T00:00:00\",\"2022-12-05T00:00:00\",\"2022-12-06T00:00:00\",\"2022-12-07T00:00:00\",\"2022-12-08T00:00:00\",\"2022-12-09T00:00:00\",\"2022-12-12T00:00:00\",\"2022-12-13T00:00:00\",\"2022-12-14T00:00:00\",\"2022-12-15T00:00:00\",\"2022-12-16T00:00:00\",\"2022-12-19T00:00:00\",\"2022-12-20T00:00:00\",\"2022-12-21T00:00:00\",\"2022-12-22T00:00:00\",\"2022-12-23T00:00:00\",\"2022-12-26T00:00:00\",\"2022-12-27T00:00:00\",\"2022-12-28T00:00:00\",\"2022-12-29T00:00:00\",\"2022-12-30T00:00:00\",\"2023-01-02T00:00:00\",\"2023-01-03T00:00:00\",\"2023-01-04T00:00:00\",\"2023-01-05T00:00:00\",\"2023-01-06T00:00:00\",\"2023-01-09T00:00:00\",\"2023-01-10T00:00:00\",\"2023-01-11T00:00:00\",\"2023-01-12T00:00:00\",\"2023-01-13T00:00:00\",\"2023-01-16T00:00:00\",\"2023-01-17T00:00:00\",\"2023-01-18T00:00:00\",\"2023-01-19T00:00:00\",\"2023-01-20T00:00:00\",\"2023-01-23T00:00:00\",\"2023-01-24T00:00:00\",\"2023-01-25T00:00:00\",\"2023-01-26T00:00:00\",\"2023-01-27T00:00:00\",\"2023-01-30T00:00:00\",\"2023-01-31T00:00:00\",\"2023-02-01T00:00:00\",\"2023-02-02T00:00:00\",\"2023-02-03T00:00:00\",\"2023-02-06T00:00:00\",\"2023-02-07T00:00:00\",\"2023-02-08T00:00:00\",\"2023-02-09T00:00:00\",\"2023-02-10T00:00:00\",\"2023-02-13T00:00:00\",\"2023-02-14T00:00:00\",\"2023-02-15T00:00:00\",\"2023-02-16T00:00:00\",\"2023-02-17T00:00:00\",\"2023-02-20T00:00:00\",\"2023-02-21T00:00:00\",\"2023-02-22T00:00:00\",\"2023-02-23T00:00:00\",\"2023-02-24T00:00:00\",\"2023-02-27T00:00:00\",\"2023-02-28T00:00:00\",\"2023-03-01T00:00:00\",\"2023-03-02T00:00:00\",\"2023-03-03T00:00:00\",\"2023-03-06T00:00:00\",\"2023-03-07T00:00:00\",\"2023-03-08T00:00:00\",\"2023-03-09T00:00:00\",\"2023-03-10T00:00:00\",\"2023-03-13T00:00:00\",\"2023-03-14T00:00:00\",\"2023-03-15T00:00:00\",\"2023-03-16T00:00:00\",\"2023-03-17T00:00:00\",\"2023-03-20T00:00:00\",\"2023-03-21T00:00:00\",\"2023-03-22T00:00:00\",\"2023-03-23T00:00:00\",\"2023-03-24T00:00:00\",\"2023-03-27T00:00:00\",\"2023-03-28T00:00:00\",\"2023-03-29T00:00:00\",\"2023-03-30T00:00:00\",\"2023-03-31T00:00:00\",\"2023-04-03T00:00:00\",\"2023-04-04T00:00:00\",\"2023-04-05T00:00:00\",\"2023-04-06T00:00:00\",\"2023-04-07T00:00:00\",\"2023-04-10T00:00:00\",\"2023-04-11T00:00:00\",\"2023-04-12T00:00:00\",\"2023-04-13T00:00:00\",\"2023-04-14T00:00:00\",\"2023-04-17T00:00:00\",\"2023-04-18T00:00:00\",\"2023-04-19T00:00:00\",\"2023-04-20T00:00:00\",\"2023-04-21T00:00:00\",\"2023-04-24T00:00:00\",\"2023-04-25T00:00:00\",\"2023-04-26T00:00:00\",\"2023-04-27T00:00:00\",\"2023-04-28T00:00:00\",\"2023-05-01T00:00:00\",\"2023-05-02T00:00:00\",\"2023-05-03T00:00:00\",\"2023-05-04T00:00:00\",\"2023-05-05T00:00:00\",\"2023-05-08T00:00:00\",\"2023-05-09T00:00:00\",\"2023-05-10T00:00:00\",\"2023-05-11T00:00:00\"],\"y\":[15554.0,15557.0,15639.0,15714.0,15641.0,15741.0,15664.0,15626.0,15647.0,15693.0,15743.0,15734.0,15633.0,15389.0,15376.0,15520.0,15625.0,15612.0,15594.0,15604.0,15676.0,15560.0,15543.0,15629.0,15616.0,15568.0,15564.0,15540.0,15574.0,15582.0,15621.0,15620.0,15789.0,15627.0,15534.0,15554.0,15594.0,15582.0,15635.0,15607.0,15596.0,15536.0,15432.0,15206.0,15115.0,15126.0,15180.0,15138.0,15154.0,15063.0,15026.0,14956.0,14940.0,14955.0,14973.0,15013.0,15002.0,14896.0,14907.0,15095.0,15198.0,15154.0,15133.0,15147.0,15188.0,15216.0,15186.0,15205.0,15144.0,15166.0,15168.0,15235.0,15197.0,15211.0,15265.0,15216.0,15241.0,15249.0,15322.0,15278.0,15354.0,15429.0,15449.0,15495.0,15503.0,15416.0,15380.0,15459.0,15429.0,15375.0,15343.0,15301.0,15253.0,15085.0,15165.0,15107.0,15060.0,15034.0,15024.0,14969.0,14922.0,14957.0,14960.0,14931.0,14941.0,14950.0,14915.0,14835.0,14722.0,14782.0,14850.0,14889.0,14995.0,14954.0,14936.0,14934.0,14940.0,14841.0,14691.0,14674.0,14677.0,14747.0,14680.0,14699.0,14675.0,14744.0,14776.0,14698.0,14776.0],\"type\":\"scatter\"}],                        {\"template\":{\"data\":{\"histogram2dcontour\":[{\"type\":\"histogram2dcontour\",\"colorbar\":{\"outlinewidth\":0,\"ticks\":\"\"},\"colorscale\":[[0.0,\"#0d0887\"],[0.1111111111111111,\"#46039f\"],[0.2222222222222222,\"#7201a8\"],[0.3333333333333333,\"#9c179e\"],[0.4444444444444444,\"#bd3786\"],[0.5555555555555556,\"#d8576b\"],[0.6666666666666666,\"#ed7953\"],[0.7777777777777778,\"#fb9f3a\"],[0.8888888888888888,\"#fdca26\"],[1.0,\"#f0f921\"]]}],\"choropleth\":[{\"type\":\"choropleth\",\"colorbar\":{\"outlinewidth\":0,\"ticks\":\"\"}}],\"histogram2d\":[{\"type\":\"histogram2d\",\"colorbar\":{\"outlinewidth\":0,\"ticks\":\"\"},\"colorscale\":[[0.0,\"#0d0887\"],[0.1111111111111111,\"#46039f\"],[0.2222222222222222,\"#7201a8\"],[0.3333333333333333,\"#9c179e\"],[0.4444444444444444,\"#bd3786\"],[0.5555555555555556,\"#d8576b\"],[0.6666666666666666,\"#ed7953\"],[0.7777777777777778,\"#fb9f3a\"],[0.8888888888888888,\"#fdca26\"],[1.0,\"#f0f921\"]]}],\"heatmap\":[{\"type\":\"heatmap\",\"colorbar\":{\"outlinewidth\":0,\"ticks\":\"\"},\"colorscale\":[[0.0,\"#0d0887\"],[0.1111111111111111,\"#46039f\"],[0.2222222222222222,\"#7201a8\"],[0.3333333333333333,\"#9c179e\"],[0.4444444444444444,\"#bd3786\"],[0.5555555555555556,\"#d8576b\"],[0.6666666666666666,\"#ed7953\"],[0.7777777777777778,\"#fb9f3a\"],[0.8888888888888888,\"#fdca26\"],[1.0,\"#f0f921\"]]}],\"heatmapgl\":[{\"type\":\"heatmapgl\",\"colorbar\":{\"outlinewidth\":0,\"ticks\":\"\"},\"colorscale\":[[0.0,\"#0d0887\"],[0.1111111111111111,\"#46039f\"],[0.2222222222222222,\"#7201a8\"],[0.3333333333333333,\"#9c179e\"],[0.4444444444444444,\"#bd3786\"],[0.5555555555555556,\"#d8576b\"],[0.6666666666666666,\"#ed7953\"],[0.7777777777777778,\"#fb9f3a\"],[0.8888888888888888,\"#fdca26\"],[1.0,\"#f0f921\"]]}],\"contourcarpet\":[{\"type\":\"contourcarpet\",\"colorbar\":{\"outlinewidth\":0,\"ticks\":\"\"}}],\"contour\":[{\"type\":\"contour\",\"colorbar\":{\"outlinewidth\":0,\"ticks\":\"\"},\"colorscale\":[[0.0,\"#0d0887\"],[0.1111111111111111,\"#46039f\"],[0.2222222222222222,\"#7201a8\"],[0.3333333333333333,\"#9c179e\"],[0.4444444444444444,\"#bd3786\"],[0.5555555555555556,\"#d8576b\"],[0.6666666666666666,\"#ed7953\"],[0.7777777777777778,\"#fb9f3a\"],[0.8888888888888888,\"#fdca26\"],[1.0,\"#f0f921\"]]}],\"surface\":[{\"type\":\"surface\",\"colorbar\":{\"outlinewidth\":0,\"ticks\":\"\"},\"colorscale\":[[0.0,\"#0d0887\"],[0.1111111111111111,\"#46039f\"],[0.2222222222222222,\"#7201a8\"],[0.3333333333333333,\"#9c179e\"],[0.4444444444444444,\"#bd3786\"],[0.5555555555555556,\"#d8576b\"],[0.6666666666666666,\"#ed7953\"],[0.7777777777777778,\"#fb9f3a\"],[0.8888888888888888,\"#fdca26\"],[1.0,\"#f0f921\"]]}],\"mesh3d\":[{\"type\":\"mesh3d\",\"colorbar\":{\"outlinewidth\":0,\"ticks\":\"\"}}],\"scatter\":[{\"fillpattern\":{\"fillmode\":\"overlay\",\"size\":10,\"solidity\":0.2},\"type\":\"scatter\"}],\"parcoords\":[{\"type\":\"parcoords\",\"line\":{\"colorbar\":{\"outlinewidth\":0,\"ticks\":\"\"}}}],\"scatterpolargl\":[{\"type\":\"scatterpolargl\",\"marker\":{\"colorbar\":{\"outlinewidth\":0,\"ticks\":\"\"}}}],\"bar\":[{\"error_x\":{\"color\":\"#2a3f5f\"},\"error_y\":{\"color\":\"#2a3f5f\"},\"marker\":{\"line\":{\"color\":\"#E5ECF6\",\"width\":0.5},\"pattern\":{\"fillmode\":\"overlay\",\"size\":10,\"solidity\":0.2}},\"type\":\"bar\"}],\"scattergeo\":[{\"type\":\"scattergeo\",\"marker\":{\"colorbar\":{\"outlinewidth\":0,\"ticks\":\"\"}}}],\"scatterpolar\":[{\"type\":\"scatterpolar\",\"marker\":{\"colorbar\":{\"outlinewidth\":0,\"ticks\":\"\"}}}],\"histogram\":[{\"marker\":{\"pattern\":{\"fillmode\":\"overlay\",\"size\":10,\"solidity\":0.2}},\"type\":\"histogram\"}],\"scattergl\":[{\"type\":\"scattergl\",\"marker\":{\"colorbar\":{\"outlinewidth\":0,\"ticks\":\"\"}}}],\"scatter3d\":[{\"type\":\"scatter3d\",\"line\":{\"colorbar\":{\"outlinewidth\":0,\"ticks\":\"\"}},\"marker\":{\"colorbar\":{\"outlinewidth\":0,\"ticks\":\"\"}}}],\"scattermapbox\":[{\"type\":\"scattermapbox\",\"marker\":{\"colorbar\":{\"outlinewidth\":0,\"ticks\":\"\"}}}],\"scatterternary\":[{\"type\":\"scatterternary\",\"marker\":{\"colorbar\":{\"outlinewidth\":0,\"ticks\":\"\"}}}],\"scattercarpet\":[{\"type\":\"scattercarpet\",\"marker\":{\"colorbar\":{\"outlinewidth\":0,\"ticks\":\"\"}}}],\"carpet\":[{\"aaxis\":{\"endlinecolor\":\"#2a3f5f\",\"gridcolor\":\"white\",\"linecolor\":\"white\",\"minorgridcolor\":\"white\",\"startlinecolor\":\"#2a3f5f\"},\"baxis\":{\"endlinecolor\":\"#2a3f5f\",\"gridcolor\":\"white\",\"linecolor\":\"white\",\"minorgridcolor\":\"white\",\"startlinecolor\":\"#2a3f5f\"},\"type\":\"carpet\"}],\"table\":[{\"cells\":{\"fill\":{\"color\":\"#EBF0F8\"},\"line\":{\"color\":\"white\"}},\"header\":{\"fill\":{\"color\":\"#C8D4E3\"},\"line\":{\"color\":\"white\"}},\"type\":\"table\"}],\"barpolar\":[{\"marker\":{\"line\":{\"color\":\"#E5ECF6\",\"width\":0.5},\"pattern\":{\"fillmode\":\"overlay\",\"size\":10,\"solidity\":0.2}},\"type\":\"barpolar\"}],\"pie\":[{\"automargin\":true,\"type\":\"pie\"}]},\"layout\":{\"autotypenumbers\":\"strict\",\"colorway\":[\"#636efa\",\"#EF553B\",\"#00cc96\",\"#ab63fa\",\"#FFA15A\",\"#19d3f3\",\"#FF6692\",\"#B6E880\",\"#FF97FF\",\"#FECB52\"],\"font\":{\"color\":\"#2a3f5f\"},\"hovermode\":\"closest\",\"hoverlabel\":{\"align\":\"left\"},\"paper_bgcolor\":\"white\",\"plot_bgcolor\":\"#E5ECF6\",\"polar\":{\"bgcolor\":\"#E5ECF6\",\"angularaxis\":{\"gridcolor\":\"white\",\"linecolor\":\"white\",\"ticks\":\"\"},\"radialaxis\":{\"gridcolor\":\"white\",\"linecolor\":\"white\",\"ticks\":\"\"}},\"ternary\":{\"bgcolor\":\"#E5ECF6\",\"aaxis\":{\"gridcolor\":\"white\",\"linecolor\":\"white\",\"ticks\":\"\"},\"baxis\":{\"gridcolor\":\"white\",\"linecolor\":\"white\",\"ticks\":\"\"},\"caxis\":{\"gridcolor\":\"white\",\"linecolor\":\"white\",\"ticks\":\"\"}},\"coloraxis\":{\"colorbar\":{\"outlinewidth\":0,\"ticks\":\"\"}},\"colorscale\":{\"sequential\":[[0.0,\"#0d0887\"],[0.1111111111111111,\"#46039f\"],[0.2222222222222222,\"#7201a8\"],[0.3333333333333333,\"#9c179e\"],[0.4444444444444444,\"#bd3786\"],[0.5555555555555556,\"#d8576b\"],[0.6666666666666666,\"#ed7953\"],[0.7777777777777778,\"#fb9f3a\"],[0.8888888888888888,\"#fdca26\"],[1.0,\"#f0f921\"]],\"sequentialminus\":[[0.0,\"#0d0887\"],[0.1111111111111111,\"#46039f\"],[0.2222222222222222,\"#7201a8\"],[0.3333333333333333,\"#9c179e\"],[0.4444444444444444,\"#bd3786\"],[0.5555555555555556,\"#d8576b\"],[0.6666666666666666,\"#ed7953\"],[0.7777777777777778,\"#fb9f3a\"],[0.8888888888888888,\"#fdca26\"],[1.0,\"#f0f921\"]],\"diverging\":[[0,\"#8e0152\"],[0.1,\"#c51b7d\"],[0.2,\"#de77ae\"],[0.3,\"#f1b6da\"],[0.4,\"#fde0ef\"],[0.5,\"#f7f7f7\"],[0.6,\"#e6f5d0\"],[0.7,\"#b8e186\"],[0.8,\"#7fbc41\"],[0.9,\"#4d9221\"],[1,\"#276419\"]]},\"xaxis\":{\"gridcolor\":\"white\",\"linecolor\":\"white\",\"ticks\":\"\",\"title\":{\"standoff\":15},\"zerolinecolor\":\"white\",\"automargin\":true,\"zerolinewidth\":2},\"yaxis\":{\"gridcolor\":\"white\",\"linecolor\":\"white\",\"ticks\":\"\",\"title\":{\"standoff\":15},\"zerolinecolor\":\"white\",\"automargin\":true,\"zerolinewidth\":2},\"scene\":{\"xaxis\":{\"backgroundcolor\":\"#E5ECF6\",\"gridcolor\":\"white\",\"linecolor\":\"white\",\"showbackground\":true,\"ticks\":\"\",\"zerolinecolor\":\"white\",\"gridwidth\":2},\"yaxis\":{\"backgroundcolor\":\"#E5ECF6\",\"gridcolor\":\"white\",\"linecolor\":\"white\",\"showbackground\":true,\"ticks\":\"\",\"zerolinecolor\":\"white\",\"gridwidth\":2},\"zaxis\":{\"backgroundcolor\":\"#E5ECF6\",\"gridcolor\":\"white\",\"linecolor\":\"white\",\"showbackground\":true,\"ticks\":\"\",\"zerolinecolor\":\"white\",\"gridwidth\":2}},\"shapedefaults\":{\"line\":{\"color\":\"#2a3f5f\"}},\"annotationdefaults\":{\"arrowcolor\":\"#2a3f5f\",\"arrowhead\":0,\"arrowwidth\":1},\"geo\":{\"bgcolor\":\"white\",\"landcolor\":\"#E5ECF6\",\"subunitcolor\":\"white\",\"showland\":true,\"showlakes\":true,\"lakecolor\":\"white\"},\"title\":{\"x\":0.05},\"mapbox\":{\"style\":\"light\"}}},\"font\":{\"size\":18},\"title\":{\"text\":\"USD to IDR Exchange Rates\"},\"xaxis\":{\"title\":{\"text\":\"Date\"}},\"yaxis\":{\"title\":{\"text\":\"Exchange Rate (IDR per USD)\"}}},                        {\"responsive\": true}                    ).then(function(){\n",
       "                            \n",
       "var gd = document.getElementById('ee28ce6f-d9f7-4cbf-b37b-a0b3f877d9eb');\n",
       "var x = new MutationObserver(function (mutations, observer) {{\n",
       "        var display = window.getComputedStyle(gd).display;\n",
       "        if (!display || display === 'none') {{\n",
       "            console.log([gd, 'removed!']);\n",
       "            Plotly.purge(gd);\n",
       "            observer.disconnect();\n",
       "        }}\n",
       "}});\n",
       "\n",
       "// Listen for the removal of the full notebook cells\n",
       "var notebookContainer = gd.closest('#notebook-container');\n",
       "if (notebookContainer) {{\n",
       "    x.observe(notebookContainer, {childList: true});\n",
       "}}\n",
       "\n",
       "// Listen for the clearing of the current output cell\n",
       "var outputEl = gd.closest('.output');\n",
       "if (outputEl) {{\n",
       "    x.observe(outputEl, {childList: true});\n",
       "}}\n",
       "\n",
       "                        })                };                });            </script>        </div>"
      ]
     },
     "metadata": {},
     "output_type": "display_data"
    }
   ],
   "source": [
    "import plotly.graph_objects as go\n",
    "import pandas as pd\n",
    "\n",
    "\n",
    "# Create figure\n",
    "fig = go.Figure()\n",
    "\n",
    "# Add trace for USD to IDR exchange rates\n",
    "fig.add_trace(go.Scatter(x=df['Date'], y=df['USDtoIDR'], mode='lines', name='USD to IDR'))\n",
    "\n",
    "# Set figure layout\n",
    "fig.update_layout(\n",
    "    title='USD to IDR Exchange Rates',\n",
    "    xaxis_title='Date',\n",
    "    yaxis_title='Exchange Rate (IDR per USD)',\n",
    "    font=dict(size=18),\n",
    ")\n",
    "\n",
    "# Show figure\n",
    "fig.show()\n"
   ]
  },
  {
   "cell_type": "markdown",
   "metadata": {},
   "source": [
    "> From the visualization data above we can see that the movement of the USD exchange to IDR is decreasing, which means that we can say that the rupiah is getting stronger and the dollar is getting weaker. From here we can also find out that if we keep the dollar longer, we can say that it is not good, because the longer the dollar price decreases. "
   ]
  },
  {
   "cell_type": "markdown",
   "metadata": {},
   "source": [
    "### Implement it at the webapps\n",
    "\n",
    "- You can create additional analysis from the data.\n",
    "- Implement it to the dashboard with at `app.py` dan `index.html`."
   ]
  }
 ],
 "metadata": {
  "kernelspec": {
   "display_name": "vulcan_da",
   "language": "python",
   "name": "vulcan_da"
  },
  "language_info": {
   "codemirror_mode": {
    "name": "ipython",
    "version": 3
   },
   "file_extension": ".py",
   "mimetype": "text/x-python",
   "name": "python",
   "nbconvert_exporter": "python",
   "pygments_lexer": "ipython3",
   "version": "3.10.10"
  }
 },
 "nbformat": 4,
 "nbformat_minor": 2
}
